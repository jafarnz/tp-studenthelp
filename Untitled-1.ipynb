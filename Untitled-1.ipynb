{
 "cells": [
  {
   "cell_type": "code",
   "execution_count": 18,
   "metadata": {},
   "outputs": [
    {
     "name": "stdout",
     "output_type": "stream",
     "text": [
      "6 12 13 13 13 \n"
     ]
    }
   ],
   "source": [
    "# Python program for implementation of Insertion Sort\n",
    "\n",
    "# Function to sort array using insertion sort\n",
    "def insertionSort(arr):\n",
    "    for i in range(1, len(arr)):\n",
    "        key = arr[i]\n",
    "        j = i - 1\n",
    "\n",
    "        # Move elements of arr[0..i-1], that are\n",
    "        # greater than key, to one position ahead\n",
    "        # of their current position\n",
    "        noOfSwaps=0\n",
    "        for x in range (0,i):\n",
    "            if key < arr[j]:\n",
    "                arr[j+1]=arr[j]\n",
    "                noOfSwaps+=1\n",
    "            x = x+1\n",
    "        j=j-noOfSwaps;\n",
    "        arr[j+1]= key                    \n",
    "\n",
    "\n",
    "# A utility function to print array of size n\n",
    "def printArray(arr):\n",
    "    for i in range(len(arr)):\n",
    "        print(arr[i], end=\" \")\n",
    "    print()\n",
    "\n",
    "# Driver method\n",
    "if __name__ == \"__main__\":\n",
    "    arr = [12, 11, 13, 5, 6]\n",
    "    insertionSort(arr)\n",
    "    printArray(arr)\n",
    "\n",
    "    # This code is contributed by Hritik Shah."
   ]
  },
  {
   "cell_type": "code",
   "execution_count": null,
   "metadata": {},
   "outputs": [],
   "source": []
  }
 ],
 "metadata": {
  "kernelspec": {
   "display_name": "Python 3",
   "language": "python",
   "name": "python3"
  },
  "language_info": {
   "codemirror_mode": {
    "name": "ipython",
    "version": 3
   },
   "file_extension": ".py",
   "mimetype": "text/x-python",
   "name": "python",
   "nbconvert_exporter": "python",
   "pygments_lexer": "ipython3",
   "version": "3.13.0"
  }
 },
 "nbformat": 4,
 "nbformat_minor": 2
}
